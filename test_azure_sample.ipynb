{
 "cells": [
  {
   "cell_type": "code",
   "execution_count": 1,
   "id": "a2c41d9c",
   "metadata": {},
   "outputs": [],
   "source": [
    "import os\n",
    "from azure.ai.translation.text import TextTranslationClient\n",
    "from azure.core.credentials import AzureKeyCredential\n",
    "def create_text_translation_client_with_credential():\n",
    "    apikey = os.environ[\"AZURE_TEXT_TRANSLATION_KEY\"]\n",
    "    region = os.environ[\"AZURE_TEXT_TRANSLATION_REGION\"]\n",
    "    # [START create_text_translation_client_with_credential]\n",
    "    credential = AzureKeyCredential(apikey)\n",
    "    text_translator = TextTranslationClient(credential=credential, region=region)\n",
    "    # [END create_text_translation_client_with_credential]\n",
    "    return text_translator"
   ]
  },
  {
   "cell_type": "code",
   "execution_count": 2,
   "id": "0e19244a",
   "metadata": {},
   "outputs": [],
   "source": [
    "from azure.core.exceptions import HttpResponseError\n",
    "\n",
    "# -------------------------------------------------------------------------\n",
    "# Text translation client\n",
    "# -------------------------------------------------------------------------\n",
    "\n",
    "text_translator = create_text_translation_client_with_credential()"
   ]
  },
  {
   "cell_type": "code",
   "execution_count": null,
   "id": "a8ed718f",
   "metadata": {},
   "outputs": [],
   "source": [
    "def get_text_sentence_boundaries():\n",
    "    # [START get_text_sentence_boundaries]\n",
    "    try:\n",
    "        from_language = \"zh-Hans\"\n",
    "        source_script = \"Latn\"\n",
    "        input_text_elements = [zhè shì gè cè shì。]\n",
    "\n",
    "        response = text_translator.find_sentence_boundaries(\n",
    "            body=input_text_elements, language=from_language, script=source_script\n",
    "        )\n",
    "        sentence_boundaries = response[0] if response else None\n",
    "\n",
    "        if sentence_boundaries:\n",
    "            detected_language = sentence_boundaries.detected_language\n",
    "            if detected_language:\n",
    "                print(\n",
    "                    fDetected languages of the input text: {detected_language.language} with score: {detected_language.score}.\"\n",
    "                )\n",
    "            print(f\"The detected sentence boundaries:\")\n",
    "            for boundary in sentence_boundaries.sent_len:\n",
    "                print(boundary)\n",
    "\n",
    "    except HttpResponseError as exception:\n",
    "        if exception.error is not None:\n",
    "            print(f\"Error Code: {exception.error.code}\")\n",
    "            print(f\"Message: {exception.error.message}\")\n",
    "        raise\n",
    "    # [END get_text_sentence_boundaries]"
   ]
  },
  {
   "cell_type": "code",
   "execution_count": 4,
   "id": "4caa0346",
   "metadata": {},
   "outputs": [],
   "source": [
    "def get_text_sentence_boundaries_auto():\n",
    "    # [START get_text_sentence_boundaries_auto]\n",
    "    try:\n",
    "        input_text_elements = [\"This is a test. This is the second sentence.\"]\n",
    "\n",
    "        response = text_translator.find_sentence_boundaries(body=input_text_elements)\n",
    "        sentence_boundaries = response[0] if response else None\n",
    "\n",
    "        if sentence_boundaries:\n",
    "            detected_language = sentence_boundaries.detected_language\n",
    "            if detected_language:\n",
    "                print(\n",
    "                    f\"Detected languages of the input text: {detected_language.language} with score: {detected_language.score}.\"\n",
    "                )\n",
    "            print(f\"The detected sentence boundaries:\")\n",
    "            for boundary in sentence_boundaries.sent_len:\n",
    "                print(boundary)\n",
    "\n",
    "    except HttpResponseError as exception:\n",
    "        if exception.error is not None:\n",
    "            print(f\"Error Code: {exception.error.code}\")\n",
    "            print(f\"Message: {exception.error.message}\")\n",
    "    # [END get_text_sentence_boundaries_auto]"
   ]
  },
  {
   "cell_type": "code",
   "execution_count": null,
   "id": "0fa654ce",
   "metadata": {},
   "outputs": [
    {
     "name": "stdout",
     "output_type": "stream",
     "text": [
      "Sentence 1 (58 chars): Baker &Spice is a restaurant owned by Wagas in Shanghai. T\n",
      "Sentence 2 (241 chars): he first restaurant in Qingdao is located outside the middle gate of the LG floor of the MixC, which is unexpectedly not very inconspicuous, and this restaurant is relatively low-key in the impression of pork head meat, and has been tepid. A\n",
      "Sentence 3 (125 chars): s the name suggests, the restaurant's main menu of pastries, pasta, pizza and other light meals is of a very good standard. I\n",
      "Sentence 4 (77 chars): 've been coming to Wagas a lot lately, so I'll make a more in-depth review. \n",
      "\n",
      "Sentence 5 (61 chars): \n",
      "Wagas's décor is simple and bright, with a Nordic twist. And\n",
      "Sentence 6 (116 chars):  the bare ceiling without a suspended ceiling and the hanging incandescent lamp have a hint of industrial style. The\n",
      "Sentence 7 (84 chars):  high-end literary environment has successfully elevated the restaurant's style. \n",
      " O\n",
      "Sentence 8 (78 chars): rdered two salads at Wagas, one Caesar salad and one chicken mango salad. Alth\n",
      "Sentence 9 (87 chars): ough pork head doesn't like lettuce-heavy salads, Wagas salads do taste very good. Caes\n",
      "Sentence 10 (32 chars): ar salad is a classic dish. Waga\n",
      "Sentence 11 (84 chars): s's Caesar salad is no chicken by default, and it costs 18 yuan to add chicken. The \n",
      "Sentence 12 (76 chars): pig's head regretted that it didn't add money and chicken at that time. The \n",
      "Sentence 13 (125 chars): short version of Caesar salad consists of quail eggs, minced meat and vegetables, sprinkled with breadcrumb-like crumbs. Waga\n",
      "Sentence 14 (168 chars): s's salad is first and foremost about the quality of the ingredients, not to mention the quail eggs and lettuce, and the taste of the minced meat is very positive. In a\n",
      "Sentence 15 (65 chars): ddition, the dressing of the Caesar salad is very authentic. Chic\n",
      "Sentence 16 (74 chars): ken and mango salad is the sales champion of the salad category here. The \n",
      "Sentence 17 (71 chars): chicken is grilled at a moderate temperature and the meat is firm. The \n",
      "Sentence 18 (77 chars): mango is cut into very large pieces, and it is really refreshing to eat. Ther\n",
      "Sentence 19 (58 chars): e are also a variety of side dishes such as avocados. The \n",
      "Sentence 20 (98 chars): special sweet and sour sauce with cream has a fresh and unique flavor and is very appetizing. \n",
      "\n",
      " I\n",
      "Sentence 21 (121 chars):  have tried three types of pasta in half, each with its own characteristics, and the overall feeling is very good. The th\n",
      "Sentence 22 (113 chars): in noodles with salmon are cooked with a small amount of cream to bring out the rich flavor of the salmon. Choosi\n",
      "Sentence 23 (131 chars): ng to squeeze a little lemon juice during consumption can neutralize the oiliness and heaviness and add a hint of freshness. White \n",
      "Sentence 24 (141 chars): wine seafood pasta is the top seller in the pasta category, with shrimp, biguan, clams and a dash of dried cherry tomatoes and celery. This p\n",
      "Sentence 25 (224 chars): asta is less oily than other pastas, but you can clearly taste the aroma of white wine, and the sweetness and sourness of dried cherry tomatoes and the tenderness of celery are well matched by the aroma of white wine. The fr\n",
      "Sentence 26 (113 chars): eshness of the seafood used is also very high, and the shrimp are made from local fresh sea-caught shrimp. It is \n",
      "Sentence 27 (158 chars): evident that the whole pasta dish does not use seasonings to enhance the freshness, and the freshness comes entirely from the seafood including shrimp. The ba\n",
      "Sentence 28 (115 chars): sil sauce used in the green sauce chicken pasta has a very pure taste, and the basil sauce alone is amazing. It is \n",
      "Sentence 29 (75 chars): served with cream, and the hollow flour and chicken go well with it. This p\n",
      "Sentence 30 (39 chars): asta dish is highly recommended. Wagas \n",
      "Sentence 31 (117 chars): also has a couple of Southeast Asian-inspired curries and rice, with pork head and one of the Thai spicy beef. This c\n",
      "Sentence 32 (72 chars): urry is made with beef, pickled seaweed, peppers and cashew nuts. The be\n",
      "Sentence 33 (99 chars): ef is made with a portion similar to a tenderloin brisket, and the meat is tender and chewy. The sp\n",
      "Sentence 34 (130 chars): ices of the curry create a spicy flavor that is enjoyable, and the glutamate of the sea vegetables is an excellent garnish. The so\n",
      "Sentence 35 (103 chars): up of the curry is thick, and the long-grain basmati rice of the side dishes is of good quality. The ex\n",
      "Sentence 36 (62 chars): perience of the whole dish together is still very good. \n",
      "\n",
      "I tr\n",
      "Sentence 37 (82 chars): ied two types of pizza, the seafood pizza and the ham and mushroom pizza. Wagas pi\n",
      "Sentence 38 (34 chars): zzas are all pizza bases. Probably\n",
      "Sentence 39 (82 chars):  with baking soda in the dough, the pizza base is very fluffy and crispy. The pizz\n",
      "Sentence 40 (93 chars): a has a lot of cheese and tastes good, and it goes well with the special pizza base. The seaf\n",
      "Sentence 41 (129 chars): ood pizza uses the same seafood as the seafood pasta, but it also highlights the umami flavor of seafood such as shrimp. The ham \n",
      "Sentence 42 (111 chars): mushroom pizza sets off the meaty aroma of high-quality ham with the unique umami flavor of mushrooms. Both piz\n",
      "Sentence 43 (36 chars): zas are highly recommended. The qual\n",
      "Sentence 44 (50 chars): ity of Wagas' desserts is also very good. The sauc\n",
      "Sentence 45 (94 chars): e of the raspberry chocolate tart has a strong sour flavor and is pure raspberry jam. The mang\n",
      "Sentence 46 (194 chars): o almond cheesecake is also cut into large pieces, and the sauce mixed with cream and cheese is sandwiched in the middle, and the almond cake at the bottom of the cake tastes very good. The carr\n",
      "Sentence 47 (140 chars): ot cake sauce is similar to custard sauce, but it is sweet, like a mixture of honey or condensed milk, and has a very mellow taste. The text\n",
      "Sentence 48 (157 chars): ure of the carrot cake is also mellow to the feeling of coarse grain cake or date cake, and it contains carrots and pecans, which is also very good. The ligh\n",
      "Sentence 49 (132 chars): t meals and desserts at Wagas are of a relatively high standard, and they are very delicate and tasteful at the same price. I have n\n",
      "Sentence 50 (45 chars): ot tasted bread, and I do not judge. It's not\n",
      "Sentence 51 (76 chars):  very popular at the moment, so the environment is still very good. The disa\n",
      "Sentence 52 (71 chars): dvantage is that there are flying insects in the storefrontage. In addi\n",
      "Sentence 53 (198 chars): tion, the pig's head meat broke the news that the membership card of the CGV theater upstairs can enjoy a 75% discount here in addition to drinks, and the cost performance in the MixC is quite high.\n"
     ]
    }
   ],
   "source": [
    "def split_text_by_lengths(text, lengths):\n",
    "    sentences = []\n",
    "    start = 0\n",
    "    for length in lengths:\n",
    "        # Slice the string from the current start index to the next \"start+length\"\n",
    "        sentences.append(text[start:start+length])\n",
    "        start += length\n",
    "    return sentences\n",
    "\n",
    "# Your original Chinese text (exactly as sent to the API)\n",
    "chinese_text = (\n",
    "    \"Baker&Spice是上海Wagas（沃歌斯，后文为方便起见均用该名称代指Baker&Spice）旗下的餐厅。沃歌斯青岛首家餐厅位于万象城LG层中门外侧，意外不是很起眼的位置，在猪头肉印象里这家餐厅也相对比较低调，一直不温不火。正如其名，该餐厅的主营的糕点和意面披萨等简餐都有非常不错的水准。近期经常来沃歌斯，所以就做一下较深度点评。\\\\n\\\\n 沃歌斯的装修陈设简洁明亮，偏向北欧范儿。而没做吊顶的裸顶和垂下来的白炽灯又带着一丝工业风。高端文艺范的环境已经成功拉升了餐厅的格调。\\\\n 在沃歌斯点过两次沙拉，一次凯撒沙拉一次鸡肉芒果沙拉。虽然猪头肉并不喜欢吃生菜多的沙拉，不过沃歌斯的沙拉味道确实非常不错。凯撒沙拉是经典名菜了。沃歌斯的凯撒沙拉默认是不加鸡肉，加鸡肉需要加18元。猪头肉就后悔当时没有加钱加鸡肉。简版的凯撒沙拉是鹌鹑蛋、肉脯碎配蔬菜，上面撒着类似面包糠的碎屑。沃歌斯的沙拉首先胜在食材质量，鹌鹑蛋和生菜不说，肉脯碎的味道就很正，大有双鱼牌的赶脚。另外凯撒沙拉的的酱汁也非常地道。鸡肉芒果沙拉是这里沙拉类的销售冠军。鸡肉烤的火候适中，肉质紧实。芒果切的非常大块，吃到确实很爽。以牛油果为首的各类蔬果配菜也非常丰富。特制的酸甜味酱汁配奶油的味道清新独特，非常开胃。\\\\n\\\\n 意面半两尝过三款，各有特色，总体感觉都非常不错。细面配三文鱼通过烹制过程中加入少量奶油很好的烘托了三文鱼浓郁的味道。而选择在食用过程中挤一点柠檬汁则可以中和油腻感和厚重感，增加一丝清新。白葡萄酒海鲜意面是意面类的销售冠军，辅料是虾仁、比管、花蛤还有一点圣女果干和西芹。这款意面比其他意面都要少油，相对的却可以明显的尝出白葡萄酒的清香，而圣女果干沉淀的酸甜和西芹的水嫩很好的配合了白葡萄酒的香味。使用的海鲜鲜度也非常高，虾仁出自本地鲜活的海捕虾。可以明显尝得出来整道意面并没有使用提鲜的调味料，鲜度完全来自于以海虾为首的海鲜。绿酱鸡肉意面使用的罗勒酱味道非常纯正，单是罗勒酱就很赞了。配上奶油口感浓醇爽滑，搭配的空心粉和鸡肉也超合拍。这道意面强力推荐。\\\\n\\\\n 沃歌斯还有几款东南亚风的咖喱饭，猪头肉点过其中一款泰式辣味牛肉。这款咖喱是由牛肉、泡发海菜、菜椒和腰果烹制的。牛肉选用的是类似里脊牛腩的部位，肉质很嫩又有嚼劲。咖喱的香辛料绘制出的鲜辣味道很过瘾，而海菜的谷氨酸做了出色的点缀。咖喱的汤汁比较浓稠，配菜的长粒香米质量也很好。配在一起整道菜的体验还是很不错的。\\\\n\\\\n 披萨试过两款，意式海鲜披萨和火腿蘑菇披萨。沃歌斯的披萨都是薄饼底。可能是在面团里放了小苏打，披萨的饼底非常蓬松酥脆。披萨的芝士也是超级多，味道也很正，跟特制的薄饼底正是绝配。意式海鲜披萨使用的海鲜与海鲜意面相同，也是突出了以海虾为首的海鲜带来的鲜味。而火腿蘑菇披萨则以口菇特有的鲜味很好的衬托了优质火腿的肉香。这两款披萨都非常推荐。\\\\n\\\\n 沃歌斯的甜品品质也非常不错。树莓巧克力挞的酱汁酸味很重，是纯正的树莓果酱。芒果杏仁芝士蛋糕的芒果切得也很大块，中间夹的应该是奶油和芝士混合的酱，饼底的杏仁蛋糕味道很正。胡萝卜蛋糕的酱类似卡仕达酱，但很甜，就像混合了蜂蜜或者炼乳，口感非常醇厚。胡萝卜蛋糕的饼底口感也是醇厚到类似粗粮蛋糕或是枣糕的感觉，里面有胡萝卜和山核桃，也是非常不错。\\\\n\\\\n 沃歌斯的简餐和甜品水平都比较高，在同等价位里算是制作非常精致味道比较考究的了。面包没尝过，不妄作评断。目前不是很火爆，所以环境还是很好的。缺点是临街店内会有飞虫。另外猪头肉爆料一下，楼上CGV影院的会员卡在这里除了饮品之外都可享七五折，在万象城性价比还是蛮高的。\"\n",
    ")\n",
    "english_text = (\n",
    "    \"Baker &Spice is a restaurant owned by Wagas in Shanghai. The first restaurant in Qingdao is located outside the middle gate of the LG floor of the MixC, which is unexpectedly not very inconspicuous, and this restaurant is relatively low-key in the impression of pork head meat, and has been tepid. As the name suggests, the restaurant's main menu of pastries, pasta, pizza and other light meals is of a very good standard. I've been coming to Wagas a lot lately, so I'll make a more in-depth review. \\n\\nWagas's décor is simple and bright, with a Nordic twist. And the bare ceiling without a suspended ceiling and the hanging incandescent lamp have a hint of industrial style. The high-end literary environment has successfully elevated the restaurant's style. \\n Ordered two salads at Wagas, one Caesar salad and one chicken mango salad. Although pork head doesn't like lettuce-heavy salads, Wagas salads do taste very good. Caesar salad is a classic dish. Wagas's Caesar salad is no chicken by default, and it costs 18 yuan to add chicken. The pig's head regretted that it didn't add money and chicken at that time. The short version of Caesar salad consists of quail eggs, minced meat and vegetables, sprinkled with breadcrumb-like crumbs. Wagas's salad is first and foremost about the quality of the ingredients, not to mention the quail eggs and lettuce, and the taste of the minced meat is very positive. In addition, the dressing of the Caesar salad is very authentic. Chicken and mango salad is the sales champion of the salad category here. The chicken is grilled at a moderate temperature and the meat is firm. The mango is cut into very large pieces, and it is really refreshing to eat. There are also a variety of side dishes such as avocados. The special sweet and sour sauce with cream has a fresh and unique flavor and is very appetizing. \\n\\n I have tried three types of pasta in half, each with its own characteristics, and the overall feeling is very good. The thin noodles with salmon are cooked with a small amount of cream to bring out the rich flavor of the salmon. Choosing to squeeze a little lemon juice during consumption can neutralize the oiliness and heaviness and add a hint of freshness. White wine seafood pasta is the top seller in the pasta category, with shrimp, biguan, clams and a dash of dried cherry tomatoes and celery. This pasta is less oily than other pastas, but you can clearly taste the aroma of white wine, and the sweetness and sourness of dried cherry tomatoes and the tenderness of celery are well matched by the aroma of white wine. The freshness of the seafood used is also very high, and the shrimp are made from local fresh sea-caught shrimp. It is evident that the whole pasta dish does not use seasonings to enhance the freshness, and the freshness comes entirely from the seafood including shrimp. The basil sauce used in the green sauce chicken pasta has a very pure taste, and the basil sauce alone is amazing. It is served with cream, and the hollow flour and chicken go well with it. This pasta dish is highly recommended. Wagas also has a couple of Southeast Asian-inspired curries and rice, with pork head and one of the Thai spicy beef. This curry is made with beef, pickled seaweed, peppers and cashew nuts. The beef is made with a portion similar to a tenderloin brisket, and the meat is tender and chewy. The spices of the curry create a spicy flavor that is enjoyable, and the glutamate of the sea vegetables is an excellent garnish. The soup of the curry is thick, and the long-grain basmati rice of the side dishes is of good quality. The experience of the whole dish together is still very good. \\n\\nI tried two types of pizza, the seafood pizza and the ham and mushroom pizza. Wagas pizzas are all pizza bases. Probably with baking soda in the dough, the pizza base is very fluffy and crispy. The pizza has a lot of cheese and tastes good, and it goes well with the special pizza base. The seafood pizza uses the same seafood as the seafood pasta, but it also highlights the umami flavor of seafood such as shrimp. The ham mushroom pizza sets off the meaty aroma of high-quality ham with the unique umami flavor of mushrooms. Both pizzas are highly recommended. The quality of Wagas' desserts is also very good. The sauce of the raspberry chocolate tart has a strong sour flavor and is pure raspberry jam. The mango almond cheesecake is also cut into large pieces, and the sauce mixed with cream and cheese is sandwiched in the middle, and the almond cake at the bottom of the cake tastes very good. The carrot cake sauce is similar to custard sauce, but it is sweet, like a mixture of honey or condensed milk, and has a very mellow taste. The texture of the carrot cake is also mellow to the feeling of coarse grain cake or date cake, and it contains carrots and pecans, which is also very good. The light meals and desserts at Wagas are of a relatively high standard, and they are very delicate and tasteful at the same price. I have not tasted bread, and I do not judge. It's not very popular at the moment, so the environment is still very good. The disadvantage is that there are flying insects in the storefrontage. In addition, the pig's head meat broke the news that the membership card of the CGV theater upstairs can enjoy a 75% discount here in addition to drinks, and the cost performance in the MixC is quite high.\"\n",
    ")\n",
    "\n",
    "# The list of sentence lengths you mentioned\n",
    "lengths = [56, 59, 32, 21, 25, 25, 21, 29, 34, 11, 26, 16, 32, 43, 16, 18, 14, 16, 19, 24, 29, 34, 35, 41, 63, 25, 40, 29, 25, 9, 37, 23, 25, 33, 23, 17, 26, 12, 25, 29, 38, 30, 11, 19, 23, 47, 37, 47, 44, 12, 18, 12, 50]\n",
    "# lengths = [58, 241, 125, 77, 61, 116, 84, 78, 87, 32, 84, 76, 125, 168, 65, 74, 71, 77, 58, 98, 121, 113, 131, 141, 224, 113, 158, 115, 75, 39, 117, 72, 99, 130, 103, 62, 82, 34, 82, 93, 129, 111, 36, 50, 94, 194, 140, 157, 132, 45, 76, 71, 205]\n",
    "\n",
    "# Use the helper function to split the text\n",
    "sentences = split_text_by_lengths(english_text, lengths)\n",
    "\n",
    "# Show each sentence with its character count for verification\n",
    "for idx, source_sentence in enumerate(sentences, 1):\n",
    "    print(f\"Sentence {idx} ({len(source_sentence)} chars): {source_sentence}\")"
   ]
  },
  {
   "cell_type": "code",
   "execution_count": 4,
   "id": "ac6ea003",
   "metadata": {},
   "outputs": [
    {
     "name": "stdout",
     "output_type": "stream",
     "text": [
      "['Baker &Spice is a restaurant owned by Wagas in Shanghai. T', 'he first restaurant in Qingdao is located outside the middle gate of the LG floor of the MixC, which is unexpectedly not very inconspicuous, and this restaurant is relatively low-key in the impression of pork head meat, and has been tepid. A', \"s the name suggests, the restaurant's main menu of pastries, pasta, pizza and other light meals is of a very good standard. I\", \"'ve been coming to Wagas a lot lately, so I'll make a more in-depth review. \\n\", \"\\nWagas's décor is simple and bright, with a Nordic twist. And\", ' the bare ceiling without a suspended ceiling and the hanging incandescent lamp have a hint of industrial style. The', \" high-end literary environment has successfully elevated the restaurant's style. \\n O\", 'rdered two salads at Wagas, one Caesar salad and one chicken mango salad. Alth', \"ough pork head doesn't like lettuce-heavy salads, Wagas salads do taste very good. Caes\", 'ar salad is a classic dish. Waga', \"s's Caesar salad is no chicken by default, and it costs 18 yuan to add chicken. The \", \"pig's head regretted that it didn't add money and chicken at that time. The \", 'short version of Caesar salad consists of quail eggs, minced meat and vegetables, sprinkled with breadcrumb-like crumbs. Waga', \"s's salad is first and foremost about the quality of the ingredients, not to mention the quail eggs and lettuce, and the taste of the minced meat is very positive. In a\", 'ddition, the dressing of the Caesar salad is very authentic. Chic', 'ken and mango salad is the sales champion of the salad category here. The ', 'chicken is grilled at a moderate temperature and the meat is firm. The ', 'mango is cut into very large pieces, and it is really refreshing to eat. Ther', 'e are also a variety of side dishes such as avocados. The ', 'special sweet and sour sauce with cream has a fresh and unique flavor and is very appetizing. \\n\\n I', ' have tried three types of pasta in half, each with its own characteristics, and the overall feeling is very good. The th', 'in noodles with salmon are cooked with a small amount of cream to bring out the rich flavor of the salmon. Choosi', 'ng to squeeze a little lemon juice during consumption can neutralize the oiliness and heaviness and add a hint of freshness. White ', 'wine seafood pasta is the top seller in the pasta category, with shrimp, biguan, clams and a dash of dried cherry tomatoes and celery. This p', 'asta is less oily than other pastas, but you can clearly taste the aroma of white wine, and the sweetness and sourness of dried cherry tomatoes and the tenderness of celery are well matched by the aroma of white wine. The fr', 'eshness of the seafood used is also very high, and the shrimp are made from local fresh sea-caught shrimp. It is ', 'evident that the whole pasta dish does not use seasonings to enhance the freshness, and the freshness comes entirely from the seafood including shrimp. The ba', 'sil sauce used in the green sauce chicken pasta has a very pure taste, and the basil sauce alone is amazing. It is ', 'served with cream, and the hollow flour and chicken go well with it. This p', 'asta dish is highly recommended. Wagas ', 'also has a couple of Southeast Asian-inspired curries and rice, with pork head and one of the Thai spicy beef. This c', 'urry is made with beef, pickled seaweed, peppers and cashew nuts. The be', 'ef is made with a portion similar to a tenderloin brisket, and the meat is tender and chewy. The sp', 'ices of the curry create a spicy flavor that is enjoyable, and the glutamate of the sea vegetables is an excellent garnish. The so', 'up of the curry is thick, and the long-grain basmati rice of the side dishes is of good quality. The ex', 'perience of the whole dish together is still very good. \\n\\nI tr', 'ied two types of pizza, the seafood pizza and the ham and mushroom pizza. Wagas pi', 'zzas are all pizza bases. Probably', ' with baking soda in the dough, the pizza base is very fluffy and crispy. The pizz', 'a has a lot of cheese and tastes good, and it goes well with the special pizza base. The seaf', 'ood pizza uses the same seafood as the seafood pasta, but it also highlights the umami flavor of seafood such as shrimp. The ham ', 'mushroom pizza sets off the meaty aroma of high-quality ham with the unique umami flavor of mushrooms. Both piz', 'zas are highly recommended. The qual', \"ity of Wagas' desserts is also very good. The sauc\", 'e of the raspberry chocolate tart has a strong sour flavor and is pure raspberry jam. The mang', 'o almond cheesecake is also cut into large pieces, and the sauce mixed with cream and cheese is sandwiched in the middle, and the almond cake at the bottom of the cake tastes very good. The carr', 'ot cake sauce is similar to custard sauce, but it is sweet, like a mixture of honey or condensed milk, and has a very mellow taste. The text', 'ure of the carrot cake is also mellow to the feeling of coarse grain cake or date cake, and it contains carrots and pecans, which is also very good. The ligh', 't meals and desserts at Wagas are of a relatively high standard, and they are very delicate and tasteful at the same price. I have n', \"ot tasted bread, and I do not judge. It's not\", ' very popular at the moment, so the environment is still very good. The disa', 'dvantage is that there are flying insects in the storefrontage. In addi', \"tion, the pig's head meat broke the news that the membership card of the CGV theater upstairs can enjoy a 75% discount here in addition to drinks, and the cost performance in the MixC is quite high.\"]\n"
     ]
    }
   ],
   "source": [
    "print(sentences)"
   ]
  },
  {
   "cell_type": "code",
   "execution_count": 1,
   "id": "cb25a1c5",
   "metadata": {},
   "outputs": [],
   "source": [
    "import polars as pl"
   ]
  },
  {
   "cell_type": "code",
   "execution_count": 3,
   "id": "dda59ca3",
   "metadata": {},
   "outputs": [],
   "source": [
    "data = {\"col1\": [0, 2], \"col2\": [3, 7]}\n",
    "\n",
    "df = pl.LazyFrame(data, schema={\"col1\": pl.Float32, \"col2\": pl.Int64})"
   ]
  },
  {
   "cell_type": "code",
   "execution_count": 4,
   "id": "6b3d9d7d",
   "metadata": {},
   "outputs": [],
   "source": [
    "def my_function(x):\n",
    "    return x*2"
   ]
  },
  {
   "cell_type": "code",
   "execution_count": 7,
   "id": "94ad3d23",
   "metadata": {},
   "outputs": [
    {
     "data": {
      "text/plain": [
       "2"
      ]
     },
     "execution_count": 7,
     "metadata": {},
     "output_type": "execute_result"
    }
   ],
   "source": [
    "df.select(pl.len()).collect().item()"
   ]
  },
  {
   "cell_type": "code",
   "execution_count": null,
   "id": "d19d6648",
   "metadata": {},
   "outputs": [
    {
     "ename": "ComputeError",
     "evalue": "The output schema of 'LazyFrame.map' is incorrect. Expected: Schema:\nname: col1, field: Float32\nname: col2, field: Int64\n\nGot: Schema:\nname: col1, field: Float64\nname: col2, field: Float64\n",
     "output_type": "error",
     "traceback": [
      "\u001b[31m---------------------------------------------------------------------------\u001b[39m",
      "\u001b[31mComputeError\u001b[39m                              Traceback (most recent call last)",
      "\u001b[36mCell\u001b[39m\u001b[36m \u001b[39m\u001b[32mIn[8]\u001b[39m\u001b[32m, line 7\u001b[39m\n\u001b[32m      2\u001b[39m lazy_batches = [\n\u001b[32m      3\u001b[39m     df.slice(i, batch_size).lazy() \u001b[38;5;28;01mfor\u001b[39;00m i \u001b[38;5;129;01min\u001b[39;00m \u001b[38;5;28mrange\u001b[39m(\u001b[32m0\u001b[39m, df.select(pl.len()).collect().item(), batch_size)\n\u001b[32m      4\u001b[39m ]\n\u001b[32m      6\u001b[39m transformed = [lazy.map_batches(my_function) \u001b[38;5;28;01mfor\u001b[39;00m lazy \u001b[38;5;129;01min\u001b[39;00m lazy_batches]\n\u001b[32m----> \u001b[39m\u001b[32m7\u001b[39m result = pl.concat([\u001b[43mlf\u001b[49m\u001b[43m.\u001b[49m\u001b[43mcollect\u001b[49m\u001b[43m(\u001b[49m\u001b[43m)\u001b[49m \u001b[38;5;28;01mfor\u001b[39;00m lf \u001b[38;5;129;01min\u001b[39;00m transformed])\n",
      "\u001b[36mFile \u001b[39m\u001b[32m~/miniforge-pypy3/envs/translate/lib/python3.12/site-packages/polars/_utils/deprecation.py:93\u001b[39m, in \u001b[36mdeprecate_streaming_parameter.<locals>.decorate.<locals>.wrapper\u001b[39m\u001b[34m(*args, **kwargs)\u001b[39m\n\u001b[32m     89\u001b[39m         kwargs[\u001b[33m\"\u001b[39m\u001b[33mengine\u001b[39m\u001b[33m\"\u001b[39m] = \u001b[33m\"\u001b[39m\u001b[33min-memory\u001b[39m\u001b[33m\"\u001b[39m\n\u001b[32m     91\u001b[39m     \u001b[38;5;28;01mdel\u001b[39;00m kwargs[\u001b[33m\"\u001b[39m\u001b[33mstreaming\u001b[39m\u001b[33m\"\u001b[39m]\n\u001b[32m---> \u001b[39m\u001b[32m93\u001b[39m \u001b[38;5;28;01mreturn\u001b[39;00m \u001b[43mfunction\u001b[49m\u001b[43m(\u001b[49m\u001b[43m*\u001b[49m\u001b[43margs\u001b[49m\u001b[43m,\u001b[49m\u001b[43m \u001b[49m\u001b[43m*\u001b[49m\u001b[43m*\u001b[49m\u001b[43mkwargs\u001b[49m\u001b[43m)\u001b[49m\n",
      "\u001b[36mFile \u001b[39m\u001b[32m~/miniforge-pypy3/envs/translate/lib/python3.12/site-packages/polars/lazyframe/frame.py:2206\u001b[39m, in \u001b[36mLazyFrame.collect\u001b[39m\u001b[34m(self, type_coercion, _type_check, predicate_pushdown, projection_pushdown, simplify_expression, slice_pushdown, comm_subplan_elim, comm_subexpr_elim, cluster_with_columns, collapse_joins, no_optimization, engine, background, _check_order, _eager, **_kwargs)\u001b[39m\n\u001b[32m   2204\u001b[39m \u001b[38;5;66;03m# Only for testing purposes\u001b[39;00m\n\u001b[32m   2205\u001b[39m callback = _kwargs.get(\u001b[33m\"\u001b[39m\u001b[33mpost_opt_callback\u001b[39m\u001b[33m\"\u001b[39m, callback)\n\u001b[32m-> \u001b[39m\u001b[32m2206\u001b[39m \u001b[38;5;28;01mreturn\u001b[39;00m wrap_df(\u001b[43mldf\u001b[49m\u001b[43m.\u001b[49m\u001b[43mcollect\u001b[49m\u001b[43m(\u001b[49m\u001b[43mengine\u001b[49m\u001b[43m,\u001b[49m\u001b[43m \u001b[49m\u001b[43mcallback\u001b[49m\u001b[43m)\u001b[49m)\n",
      "\u001b[31mComputeError\u001b[39m: The output schema of 'LazyFrame.map' is incorrect. Expected: Schema:\nname: col1, field: Float32\nname: col2, field: Int64\n\nGot: Schema:\nname: col1, field: Float64\nname: col2, field: Float64\n"
     ]
    }
   ],
   "source": [
    "batch_size = 1000\n",
    "lazy_batches = [\n",
    "    df.slice(i, batch_size).lazy() for i in range(0, df.select(pl.len()).collect().item(), batch_size)\n",
    "]\n",
    "\n",
    "transformed = [lazy.map_batches(my_function) for lazy in lazy_batches]\n",
    "# result = pl.concat([lf.collect() for lf in transformed])"
   ]
  },
  {
   "cell_type": "code",
   "execution_count": 1,
   "id": "b40fcdee",
   "metadata": {},
   "outputs": [
    {
     "data": {
      "text/plain": [
       "'Zhuangyuanlou Hotel went for the first time, because of the geographical location: in Ningbo City and Yi Avenue high, big, on, inside the decoration of Chinese, the dish is authentic Ningbo cuisine, the taste is pure, drunk mud snail is particularly good, eat the taste of childhood, because I went late, waited in the lobby for a while, during which there is tea to drink, the waiter also chats with you, to the dining business is too good, the waiter is trotting, the service attitude is absolutely not speedy, everything is in place, the drink is also patiently explained to us, so it is absolutely necessary to boast, I'"
      ]
     },
     "execution_count": 1,
     "metadata": {},
     "output_type": "execute_result"
    }
   ],
   "source": [
    "text = 'Zhuangyuanlou Hotel went for the first time, because of the geographical location: in Ningbo City and Yi Avenue high, big, on, inside the decoration of Chinese, the dish is authentic Ningbo cuisine, the taste is pure, drunk mud snail is particularly good, eat the taste of childhood, because I went late, waited in the lobby for a while, during which there is tea to drink, the waiter also chats with you, to the dining business is too good, the waiter is trotting, the service attitude is absolutely not speedy, everything is in place, the drink is also patiently explained to us, so it is absolutely necessary to boast, In particular, Peng Xinxing and Hong Jihua (only know the name by looking at the service card) also add color to our image of Ningbo, the champion building is a window in Ningbo, and the quality of the waiter reflects the spiritual outlook of our Ningbo people. Like one'\n",
    "text[0:623]"
   ]
  },
  {
   "cell_type": "code",
   "execution_count": null,
   "id": "3064812f",
   "metadata": {},
   "outputs": [],
   "source": [
    "import polars as pl"
   ]
  },
  {
   "cell_type": "code",
   "execution_count": 23,
   "id": "bceacc81",
   "metadata": {},
   "outputs": [],
   "source": [
    "df = pl.read_parquet('./text-zh-simplified_translated.parquet')"
   ]
  },
  {
   "cell_type": "code",
   "execution_count": 24,
   "id": "54a2f0bf",
   "metadata": {},
   "outputs": [
    {
     "data": {
      "text/html": [
       "<div><style>\n",
       ".dataframe > thead > tr,\n",
       ".dataframe > tbody > tr {\n",
       "  text-align: right;\n",
       "  white-space: pre-wrap;\n",
       "}\n",
       "</style>\n",
       "<small>shape: (5, 7)</small><table border=\"1\" class=\"dataframe\"><thead><tr><th>id</th><th>review</th><th>translated_text</th><th>source_text_length</th><th>translated_text_length</th><th>source_split_texts</th><th>translated_split_texts</th></tr><tr><td>i64</td><td>str</td><td>str</td><td>list[i64]</td><td>list[i64]</td><td>list[str]</td><td>list[str]</td></tr></thead><tbody><tr><td>46277</td><td>&quot;状元楼饭店第一次去，因为地理位置优越：在宁波市和义大道高、大…</td><td>&quot;Zhuangyuanlou Hotel went for t…</td><td>[162, 65, 3]</td><td>[623, 261, 8]</td><td>[&quot;状元楼饭店第一次去，因为地理位置优越：在宁波市和义大道高、大、上，里面装修中式，菜是地道的宁波菜，口味纯正，醉泥螺特棒，吃到了小时候的味道，因为去了晚了，在大堂等了一会儿，期间有茶水喝、服务员还与你聊天，到了就餐时生意太好，服务员都是小跑状，服务态度绝对不提速，样样都服务到位，点酒水还耐心的与我们解释，就这样绝对要夸一夸，&quot;, &quot;特别是彭新星、洪继华（看服务牌才知道名字）也给我们宁波市形象增色，状元楼是宁波的一扇窗口，服务员的素质更体现我们宁波人的精神面貌。&quot;, &quot;赞一个&quot;]</td><td>[&quot;Zhuangyuanlou Hotel went for the first time, because of the geographical location: in Ningbo City and Yi Avenue high, big, on, inside the decoration of Chinese, the dish is authentic Ningbo cuisine, the taste is pure, drunk mud snail is particularly good, eat the taste of childhood, because I went late, waited in the lobby for a while, during which there is tea to drink, the waiter also chats with you, to the dining business is too good, the waiter is trotting, the service attitude is absolutely not speedy, everything is in place, the drink is also patiently explained to us, so it is absolutely necessary to boast, I&quot;, &quot;n particular, Peng Xinxing and Hong Jihua (only know the name by looking at the service card) also add color to our image of Ningbo, the champion building is a window in Ningbo, and the quality of the waiter reflects the spiritual outlook of our Ningbo people. &quot;, &quot;Like one&quot;]</td></tr><tr><td>23691</td><td>&quot;我最爱他们家的猪手，麻辣鸡爪，肉片口磨，道道菜都是家常菜的味…</td><td>&quot;I love their pork knuckles, sp…</td><td>[111, 23, … 27]</td><td>[434, 90, … 121]</td><td>[&quot;我最爱他们家的猪手，麻辣鸡爪，肉片口磨，道道菜都是家常菜的味道，非常的好吃，是原来的昊烨，和长白街北的强烨饭店，是仔妹店，相同却又不是太相同，弥补了强烨的一个遗憾，就是强烨现在没有宵夜了，老妈家有宵夜，10点以后可以过来。&quot;, &quot;整体用餐环境，干净整洁，简单清爽，有上下两层.&quot;, … &quot;适合亲朋好友稍微小聚一下，门口就是公交站台，非常方便！&quot;]</td><td>[&quot;I love their pork knuckles, spicy chicken feet, meat slices and mouth grinding, the dishes are all home-cooked taste, very delicious, it is the original Haoye, and the Qiangye restaurant in the north of Changbai Street, it is a sister shop, the same but not too the same, to make up for one of Qiangye&#x27;s regrets, that is, Qiangye has no supper now, and there is a supper at my mother&#x27;s house, and you can come over after 10 o&#x27;clock. T&quot;, &quot;he overall dining environment is clean and tidy, simple and refreshing, with two floors. T&quot;, … &quot;It is suitable for a small gathering of relatives and friends, and the bus stop is at the door, which is very convenient!&quot;]</td></tr><tr><td>23660</td><td>&quot;我是比较喜欢荣新馆的，因为材料新鲜，服务又好，价格适中，但是…</td><td>&quot;I prefer Rongxinguan, because …</td><td>[79, 36, … 41]</td><td>[292, 148, … 154]</td><td>[&quot;我是比较喜欢荣新馆的，因为材料新鲜，服务又好，价格适中，但是老公每次吃都会拉肚子，特神奇，我喜欢鳌虾，感觉比牡丹虾好吃，但是我们这种小胃口，一人四个也就饱了。&quot;, &quot;对于不吃鱼的人来说，吃日料真的比较亏，只能吃螃蟹，海胆和海螺等带壳海鲜。&quot;, … &quot;给予四星，是因为老公会拉肚子，上次我弟弟也拉肚子，貌似女生都好好的，男生就难说了！&quot;]</td><td>[&quot;I prefer Rongxinguan, because the materials are fresh, the service is good, and the price is moderate, but my husband will have diarrhea every time he eats, which is amazing, I like crayfish, and I feel better than peony shrimp, but we have a small appetite, and one person is full of four. F&quot;, &quot;or people who don&#x27;t eat fish, it&#x27;s really a loss to eat Japanese food, and they can only eat shell seafood such as crabs, sea urchins, and conchs. T&quot;, … &quot;I gave four stars because my husband had diarrhea, and my brother also had diarrhea last time, and it seems that girls are fine, but boys are hard to say!&quot;]</td></tr><tr><td>379</td><td>&quot;8.8秒杀的多嘴肉蟹煲，第一天开业就去了，大众点评很给力，排…</td><td>&quot;8.8 seconds to kill the multi-…</td><td>[163, 120]</td><td>[693, 437]</td><td>[&quot;8.8秒杀的多嘴肉蟹煲，第一天开业就去了，大众点评很给力，排了两个半小时的队才轮到，他家很年轻化，服务员不时出来跳舞啥的，挺有意思，第一天分享还有小礼物，点赞还送饮料，可惜没赶上，点了8元一份的米饭，米饭是砂锅装的，非常好吃，泡多嘴肉蟹煲的汤吃更棒，还点了一个馍，沾着辣肉酱吃，得趁热吃，不然馍就硬不好吃了，肉蟹煲里面很丰富，&quot;, &quot;满满一大锅，里面有螃蟹，大虾，年糕，鸡爪，螃蟹肉很多，真的是肉蟹，鸡爪很好吃，做的软糯的，非常不错，里面还有花生腐竹，味道都不错，服务也很到位，开业第一天最后吃完的，服务员还送了西瓜，很贴心，还会再来的，推荐哦，大家都快点来吃吧，非常划算的&quot;]</td><td>[&quot;8.8 seconds to kill the multi-mouth meat and crab pot, the first day of opening on the go, the public reviews are very powerful, queued for two and a half hours before it was the turn, his family is very young, the waiter comes out from time to time to dance or something, very interesting, the first day to share and a small gift, like and send a drink, but unfortunately did not catch up, ordered 8 yuan a piece of rice, the rice is a casserole, very delicious, the soup of the multi-mouth meat crab pot is better, and ordered a bun, dipped in spicy meat sauce to eat, you have to eat it while it is hot, otherwise the bun will be hard and not delicious, the meat and crab pot is very rich, &quot;, &quot;Full of a big pot, there are crabs, prawns, rice cakes, chicken feet, a lot of crab meat, it is really meat crabs, chicken feet are delicious, soft and glutinous, very good, there are peanuts and bean curd in it, the taste is good, the service is also in place, the first day of the opening of the last to eat, the waiter also sent watermelon, very intimate, will come again, recommended Oh, everyone hurry up to eat, very cost-effective&quot;]</td></tr><tr><td>13811</td><td>&quot;喜欢KOI好多年了，但是看着它的价格在一路飙涨，真心是有点越…</td><td>&quot;I&#x27;ve loved KOI for many years,…</td><td>[39, 72, … 6]</td><td>[105, 239, … 16]</td><td>[&quot;喜欢KOI好多年了，但是看着它的价格在一路飙涨，真心是有点越来越爱不起来了呢。&quot;, &quot;不过还好有大众点评的闪惠，每周四半价，太便宜啦~棒棒的~~\\\\n还是一如既往点了最爱的蒟蒻，其实也不是真的蒟蒻啦，就是椰果，但是我就是好喜欢呢。&quot;, … &quot;还是不错的。&quot;]</td><td>[&quot;I&#x27;ve loved KOI for many years, but seeing its price soaring, I&#x27;m really getting a little bit out of it. B&quot;, &quot;ut fortunately, there are flash discounts from public reviews, half price every Thursday, it&#x27;s too cheap~ Awesome~~\\\\n I still ordered my favorite konjac as always, in fact, it&#x27;s not really konjac, it&#x27;s coconut fruit, but I just like it. A&quot;, … &quot;It&#x27;s still good.&quot;]</td></tr></tbody></table></div>"
      ],
      "text/plain": [
       "shape: (5, 7)\n",
       "┌───────┬───────────────┬──────────────┬──────────────┬──────────────┬──────────────┬──────────────┐\n",
       "│ id    ┆ review        ┆ translated_t ┆ source_text_ ┆ translated_t ┆ source_split ┆ translated_s │\n",
       "│ ---   ┆ ---           ┆ ext          ┆ length       ┆ ext_length   ┆ _texts       ┆ plit_texts   │\n",
       "│ i64   ┆ str           ┆ ---          ┆ ---          ┆ ---          ┆ ---          ┆ ---          │\n",
       "│       ┆               ┆ str          ┆ list[i64]    ┆ list[i64]    ┆ list[str]    ┆ list[str]    │\n",
       "╞═══════╪═══════════════╪══════════════╪══════════════╪══════════════╪══════════════╪══════════════╡\n",
       "│ 46277 ┆ 状元楼饭店第  ┆ Zhuangyuanlo ┆ [162, 65, 3] ┆ [623, 261,   ┆ [\"状元楼饭店 ┆ [\"Zhuangyuan │\n",
       "│       ┆ 一次去，因为  ┆ u Hotel went ┆              ┆ 8]           ┆ 第一次去，因 ┆ lou Hotel    │\n",
       "│       ┆ 地理位置优越  ┆ for t…       ┆              ┆              ┆ 为地理位置优 ┆ went for…    │\n",
       "│       ┆ ：在宁波市和  ┆              ┆              ┆              ┆ 越：在宁波市 ┆              │\n",
       "│       ┆ 义大道高、大… ┆              ┆              ┆              ┆ 和义大道高…  ┆              │\n",
       "│ 23691 ┆ 我最爱他们家  ┆ I love their ┆ [111, 23, …  ┆ [434, 90, …  ┆ [\"我最爱他们 ┆ [\"I love     │\n",
       "│       ┆ 的猪手，麻辣  ┆ pork         ┆ 27]          ┆ 121]         ┆ 家的猪手，麻 ┆ their pork   │\n",
       "│       ┆ 鸡爪，肉片口  ┆ knuckles,    ┆              ┆              ┆ 辣鸡爪，肉片 ┆ knuckles, …  │\n",
       "│       ┆ 磨，道道菜都  ┆ sp…          ┆              ┆              ┆ 口磨，道道菜 ┆              │\n",
       "│       ┆ 是家常菜的味… ┆              ┆              ┆              ┆ 都是家常菜…  ┆              │\n",
       "│ 23660 ┆ 我是比较喜欢  ┆ I prefer     ┆ [79, 36, …   ┆ [292, 148, … ┆ [\"我是比较喜 ┆ [\"I prefer   │\n",
       "│       ┆ 荣新馆的，因  ┆ Rongxinguan, ┆ 41]          ┆ 154]         ┆ 欢荣新馆的， ┆ Rongxinguan, │\n",
       "│       ┆ 为材料新鲜，  ┆ because …    ┆              ┆              ┆ 因为材料新鲜 ┆ becaus…      │\n",
       "│       ┆ 服务又好，价  ┆              ┆              ┆              ┆ ，服务又好， ┆              │\n",
       "│       ┆ 格适中，但是… ┆              ┆              ┆              ┆ 价格适中，…  ┆              │\n",
       "│ 379   ┆ 8.8秒杀的多嘴 ┆ 8.8 seconds  ┆ [163, 120]   ┆ [693, 437]   ┆ [\"8.8秒杀的  ┆ [\"8.8        │\n",
       "│       ┆ 肉蟹煲，第一  ┆ to kill the  ┆              ┆              ┆ 多嘴肉蟹煲， ┆ seconds to   │\n",
       "│       ┆ 天开业就去了  ┆ multi-…      ┆              ┆              ┆ 第一天开业就 ┆ kill the     │\n",
       "│       ┆ ，大众点评很  ┆              ┆              ┆              ┆ 去了，大众点 ┆ mult…        │\n",
       "│       ┆ 给力，排…     ┆              ┆              ┆              ┆ 评很给力…    ┆              │\n",
       "│ 13811 ┆ 喜欢KOI好多年 ┆ I've loved   ┆ [39, 72, …   ┆ [105, 239, … ┆ [\"喜欢KOI好  ┆ [\"I've loved │\n",
       "│       ┆ 了，但是看着  ┆ KOI for many ┆ 6]           ┆ 16]          ┆ 多年了，但是 ┆ KOI for many │\n",
       "│       ┆ 它的价格在一  ┆ years,…      ┆              ┆              ┆ 看着它的价格 ┆ year…        │\n",
       "│       ┆ 路飙涨，真心  ┆              ┆              ┆              ┆ 在一路飙涨， ┆              │\n",
       "│       ┆ 是有点越…     ┆              ┆              ┆              ┆ 真心是有…    ┆              │\n",
       "└───────┴───────────────┴──────────────┴──────────────┴──────────────┴──────────────┴──────────────┘"
      ]
     },
     "execution_count": 24,
     "metadata": {},
     "output_type": "execute_result"
    }
   ],
   "source": [
    "df.head(5)"
   ]
  },
  {
   "cell_type": "code",
   "execution_count": 1,
   "id": "520bcb4f",
   "metadata": {},
   "outputs": [],
   "source": [
    "text = \"I love their pork knuckles, spicy chicken feet, meat slices and mouth grinding, the dishes are all home-cooked taste, very delicious, it is the original Haoye, and the Qiangye restaurant in the north of Changbai Street, it is a sister shop, the same but not too the same, to make up for one of Qiangye's regrets, that is, Qiangye has no supper now, and there is a supper at my mother's house, and you can come over after 10 o'clock. The overall dining environment is clean and tidy, simple and refreshing, with two floors. The service is also in place! The owner is super nice and especially easy to talk to! Nanjing's authentic local cuisine needs to be supported!! It is suitable for a small gathering of relatives and friends, and the bus stop is at the door, which is very convenient!\"\n",
    "lengths = [\n",
    "            434,\n",
    "            90,\n",
    "            30,\n",
    "            56,\n",
    "            57,\n",
    "            121\n",
    "        ]"
   ]
  },
  {
   "cell_type": "code",
   "execution_count": 2,
   "id": "36716113",
   "metadata": {},
   "outputs": [],
   "source": [
    "def split_text_by_word_revised(text, lengths):\n",
    "    sentences = []\n",
    "    start = 0\n",
    "    for i, length in enumerate(lengths):\n",
    "        end = min(start + length, len(text))\n",
    "        if i < len(lengths) - 1: # For all segments except the last\n",
    "            while end > start and text[end-1] != ' ':\n",
    "                end -= 1\n",
    "            if end == start:\n",
    "                end = min(start + length, len(text)) # Force split if no space found\n",
    "        else:\n",
    "            end = len(text) # For the last segment, just take the rest of the text\n",
    "        sentences.append(text[start:end].strip())\n",
    "        start = end\n",
    "    return sentences"
   ]
  },
  {
   "cell_type": "code",
   "execution_count": 4,
   "id": "99e11e08",
   "metadata": {},
   "outputs": [
    {
     "data": {
      "text/plain": [
       "[\"I love their pork knuckles, spicy chicken feet, meat slices and mouth grinding, the dishes are all home-cooked taste, very delicious, it is the original Haoye, and the Qiangye restaurant in the north of Changbai Street, it is a sister shop, the same but not too the same, to make up for one of Qiangye's regrets, that is, Qiangye has no supper now, and there is a supper at my mother's house, and you can come over after 10 o'clock.\",\n",
       " 'The overall dining environment is clean and tidy, simple and refreshing, with two floors.',\n",
       " 'The service is also in place!',\n",
       " 'The owner is super nice and especially easy to talk to!',\n",
       " \"Nanjing's authentic local cuisine needs to be\",\n",
       " 'supported!! It is suitable for a small gathering of relatives and friends, and the bus stop is at the door, which is very convenient!']"
      ]
     },
     "execution_count": 4,
     "metadata": {},
     "output_type": "execute_result"
    }
   ],
   "source": [
    "split_text_by_word_revised(text, lengths)"
   ]
  },
  {
   "cell_type": "code",
   "execution_count": 29,
   "id": "5756616b",
   "metadata": {},
   "outputs": [],
   "source": [
    "source_split_column= \"source_split_texts\"\n",
    "translated_split_column= \"translated_split_texts\"\n",
    "new_rows= []\n",
    "for row in df.head(5).iter_rows(named=True):\n",
    "    sentence_index = 0\n",
    "    for source_sentence, translated_sentence in zip(row[source_split_column], row[translated_split_column]):\n",
    "        if source_sentence.strip():\n",
    "            new_rows.append({\"id\": row[\"id\"], \"sentence_index\": sentence_index, \"source_text\": source_sentence, \"translated_text\": translated_sentence})\n",
    "            sentence_index += 1\n",
    "    # print(row[split_column])\n",
    "        \n"
   ]
  },
  {
   "cell_type": "code",
   "execution_count": 31,
   "id": "67ae7631",
   "metadata": {},
   "outputs": [
    {
     "data": {
      "text/html": [
       "<div><style>\n",
       ".dataframe > thead > tr,\n",
       ".dataframe > tbody > tr {\n",
       "  text-align: right;\n",
       "  white-space: pre-wrap;\n",
       "}\n",
       "</style>\n",
       "<small>shape: (23, 4)</small><table border=\"1\" class=\"dataframe\"><thead><tr><th>id</th><th>sentence_index</th><th>source_text</th><th>translated_text</th></tr><tr><td>i64</td><td>i64</td><td>str</td><td>str</td></tr></thead><tbody><tr><td>46277</td><td>0</td><td>&quot;状元楼饭店第一次去，因为地理位置优越：在宁波市和义大道高、大…</td><td>&quot;Zhuangyuanlou Hotel went for t…</td></tr><tr><td>46277</td><td>1</td><td>&quot;特别是彭新星、洪继华（看服务牌才知道名字）也给我们宁波市形象…</td><td>&quot;n particular, Peng Xinxing and…</td></tr><tr><td>46277</td><td>2</td><td>&quot;赞一个&quot;</td><td>&quot;Like one&quot;</td></tr><tr><td>23691</td><td>0</td><td>&quot;我最爱他们家的猪手，麻辣鸡爪，肉片口磨，道道菜都是家常菜的味…</td><td>&quot;I love their pork knuckles, sp…</td></tr><tr><td>23691</td><td>1</td><td>&quot;整体用餐环境，干净整洁，简单清爽，有上下两层.&quot;</td><td>&quot;he overall dining environment …</td></tr><tr><td>&hellip;</td><td>&hellip;</td><td>&hellip;</td><td>&hellip;</td></tr><tr><td>13811</td><td>3</td><td>&quot;大杯22，中杯17.\\\\n朋友爱吃仙草，所以给他点了仙草蜜，…</td><td>&quot;arge cup 22, medium cup 17.\\\\n…</td></tr><tr><td>13811</td><td>4</td><td>&quot;中杯18.\\\\n蔡塘广场的这家不是很好找。&quot;</td><td>&quot;edium Cup 18.\\\\n This one in C…</td></tr><tr><td>13811</td><td>5</td><td>&quot;在一楼的广场中央，幸得小伙伴指点，在钓鱼池的旁边。&quot;</td><td>&quot;n the middle of the square on …</td></tr><tr><td>13811</td><td>6</td><td>&quot;也有几张桌子可以坐人。&quot;</td><td>&quot;here are also a few tables whe…</td></tr><tr><td>13811</td><td>7</td><td>&quot;还是不错的。&quot;</td><td>&quot;It&#x27;s still good.&quot;</td></tr></tbody></table></div>"
      ],
      "text/plain": [
       "shape: (23, 4)\n",
       "┌───────┬────────────────┬─────────────────────────────────┬─────────────────────────────────┐\n",
       "│ id    ┆ sentence_index ┆ source_text                     ┆ translated_text                 │\n",
       "│ ---   ┆ ---            ┆ ---                             ┆ ---                             │\n",
       "│ i64   ┆ i64            ┆ str                             ┆ str                             │\n",
       "╞═══════╪════════════════╪═════════════════════════════════╪═════════════════════════════════╡\n",
       "│ 46277 ┆ 0              ┆ 状元楼饭店第一次去，因为地理位  ┆ Zhuangyuanlou Hotel went for t… │\n",
       "│       ┆                ┆ 置优越：在宁波市和义大道高、大… ┆                                 │\n",
       "│ 46277 ┆ 1              ┆ 特别是彭新星、洪继华（看服务牌  ┆ n particular, Peng Xinxing and… │\n",
       "│       ┆                ┆ 才知道名字）也给我们宁波市形象… ┆                                 │\n",
       "│ 46277 ┆ 2              ┆ 赞一个                          ┆ Like one                        │\n",
       "│ 23691 ┆ 0              ┆ 我最爱他们家的猪手，麻辣鸡爪，  ┆ I love their pork knuckles, sp… │\n",
       "│       ┆                ┆ 肉片口磨，道道菜都是家常菜的味… ┆                                 │\n",
       "│ 23691 ┆ 1              ┆ 整体用餐环境，干净整洁，简单清  ┆ he overall dining environment … │\n",
       "│       ┆                ┆ 爽，有上下两层.                 ┆                                 │\n",
       "│ …     ┆ …              ┆ …                               ┆ …                               │\n",
       "│ 13811 ┆ 3              ┆ 大杯22，中杯17.\\\\n朋友爱吃仙草  ┆ arge cup 22, medium cup 17.\\\\n… │\n",
       "│       ┆                ┆ ，所以给他点了仙草蜜，…         ┆                                 │\n",
       "│ 13811 ┆ 4              ┆ 中杯18.\\\\n蔡塘广场的这家不是很  ┆ edium Cup 18.\\\\n This one in C… │\n",
       "│       ┆                ┆ 好找。                          ┆                                 │\n",
       "│ 13811 ┆ 5              ┆ 在一楼的广场中央，幸得小伙伴指  ┆ n the middle of the square on … │\n",
       "│       ┆                ┆ 点，在钓鱼池的旁边。            ┆                                 │\n",
       "│ 13811 ┆ 6              ┆ 也有几张桌子可以坐人。          ┆ here are also a few tables whe… │\n",
       "│ 13811 ┆ 7              ┆ 还是不错的。                    ┆ It's still good.                │\n",
       "└───────┴────────────────┴─────────────────────────────────┴─────────────────────────────────┘"
      ]
     },
     "execution_count": 31,
     "metadata": {},
     "output_type": "execute_result"
    }
   ],
   "source": [
    "pl.DataFrame(new_rows)"
   ]
  },
  {
   "cell_type": "code",
   "execution_count": 1,
   "id": "f85bea4b",
   "metadata": {},
   "outputs": [],
   "source": [
    "import polars as pl"
   ]
  },
  {
   "cell_type": "code",
   "execution_count": 2,
   "id": "24723894",
   "metadata": {},
   "outputs": [
    {
     "name": "stderr",
     "output_type": "stream",
     "text": [
      "Could not determine dtype for column 5, falling back to string\n",
      "Could not determine dtype for column 6, falling back to string\n"
     ]
    },
    {
     "data": {
      "text/html": [
       "<div><style>\n",
       ".dataframe > thead > tr,\n",
       ".dataframe > tbody > tr {\n",
       "  text-align: right;\n",
       "  white-space: pre-wrap;\n",
       "}\n",
       "</style>\n",
       "<small>shape: (6_307, 11)</small><table border=\"1\" class=\"dataframe\"><thead><tr><th>respondent id</th><th>question code</th><th>comments</th><th>hide comment</th><th>language id</th><th>edited text</th><th>english translation</th><th>positive sentiment probability</th><th>neutral sentiment probability</th><th>negative sentiment probability</th><th>sentiment category</th></tr><tr><td>i64</td><td>str</td><td>str</td><td>bool</td><td>str</td><td>str</td><td>str</td><td>f64</td><td>f64</td><td>f64</td><td>str</td></tr></thead><tbody><tr><td>25386172</td><td>&quot;ent|action_teamleadership&quot;</td><td>&quot;Semoga kedepan pimpinan diseti…</td><td>false</td><td>&quot;bi&quot;</td><td>null</td><td>null</td><td>0.4477678</td><td>0.482233</td><td>0.0699994</td><td>&quot;neutral&quot;</td></tr><tr><td>25386172</td><td>&quot;rst|actions_systemsprocesses&quot;</td><td>&quot;Smoga kedepan untuk peralatan,…</td><td>false</td><td>&quot;bi&quot;</td><td>null</td><td>null</td><td>0.6164467</td><td>0.317413</td><td>0.06614</td><td>&quot;positive&quot;</td></tr><tr><td>25386172</td><td>&quot;rst|actions_skillsstaffing&quot;</td><td>&quot;Smoga kedepan agar lebih ditin…</td><td>false</td><td>&quot;bi&quot;</td><td>null</td><td>null</td><td>0.747983</td><td>0.206887</td><td>0.04513</td><td>&quot;positive&quot;</td></tr><tr><td>25386172</td><td>&quot;ent|action_teamwork&quot;</td><td>&quot;Smoga kedepan semakin solid da…</td><td>false</td><td>&quot;bi&quot;</td><td>null</td><td>null</td><td>0.7493369</td><td>0.181825</td><td>0.068838</td><td>&quot;positive&quot;</td></tr><tr><td>25386172</td><td>&quot;ent|actions_accountability&quot;</td><td>&quot;Pada kondisi apapun kita harus…</td><td>false</td><td>&quot;bi&quot;</td><td>null</td><td>null</td><td>0.3848759</td><td>0.5893544</td><td>0.02577</td><td>&quot;neutral&quot;</td></tr><tr><td>&hellip;</td><td>&hellip;</td><td>&hellip;</td><td>&hellip;</td><td>&hellip;</td><td>&hellip;</td><td>&hellip;</td><td>&hellip;</td><td>&hellip;</td><td>&hellip;</td><td>&hellip;</td></tr><tr><td>25385551</td><td>&quot;ent|action_teamleadership&quot;</td><td>&quot;tindakan untuk semua pimpinan …</td><td>false</td><td>&quot;bi&quot;</td><td>null</td><td>null</td><td>0.185693</td><td>0.7884732</td><td>0.025834</td><td>&quot;neutral&quot;</td></tr><tr><td>25385551</td><td>&quot;rst|actions_systemsprocesses&quot;</td><td>&quot;belum ada&quot;</td><td>false</td><td>&quot;bi&quot;</td><td>null</td><td>null</td><td>0.002438</td><td>0.9945281</td><td>0.003034</td><td>&quot;neutral&quot;</td></tr><tr><td>25385551</td><td>&quot;rst|actions_skillsstaffing&quot;</td><td>&quot;belum ada&quot;</td><td>false</td><td>&quot;bi&quot;</td><td>null</td><td>null</td><td>0.002438</td><td>0.9945281</td><td>0.003034</td><td>&quot;neutral&quot;</td></tr><tr><td>25385551</td><td>&quot;ent|action_teamwork&quot;</td><td>&quot;belum ada&quot;</td><td>false</td><td>&quot;bi&quot;</td><td>null</td><td>null</td><td>0.002438</td><td>0.9945281</td><td>0.003034</td><td>&quot;neutral&quot;</td></tr><tr><td>25385551</td><td>&quot;ent|actions_accountability&quot;</td><td>&quot;belum ada&quot;</td><td>false</td><td>&quot;bi&quot;</td><td>null</td><td>null</td><td>0.002438</td><td>0.9945281</td><td>0.003034</td><td>&quot;neutral&quot;</td></tr></tbody></table></div>"
      ],
      "text/plain": [
       "shape: (6_307, 11)\n",
       "┌───────────┬───────────┬───────────┬───────────┬───┬───────────┬───────────┬───────────┬──────────┐\n",
       "│ responden ┆ question  ┆ comments  ┆ hide      ┆ … ┆ positive  ┆ neutral   ┆ negative  ┆ sentimen │\n",
       "│ t id      ┆ code      ┆ ---       ┆ comment   ┆   ┆ sentiment ┆ sentiment ┆ sentiment ┆ t        │\n",
       "│ ---       ┆ ---       ┆ str       ┆ ---       ┆   ┆ probabili ┆ probabili ┆ probabili ┆ category │\n",
       "│ i64       ┆ str       ┆           ┆ bool      ┆   ┆ ty        ┆ ty        ┆ ty        ┆ ---      │\n",
       "│           ┆           ┆           ┆           ┆   ┆ ---       ┆ ---       ┆ ---       ┆ str      │\n",
       "│           ┆           ┆           ┆           ┆   ┆ f64       ┆ f64       ┆ f64       ┆          │\n",
       "╞═══════════╪═══════════╪═══════════╪═══════════╪═══╪═══════════╪═══════════╪═══════════╪══════════╡\n",
       "│ 25386172  ┆ ent|actio ┆ Semoga    ┆ false     ┆ … ┆ 0.4477678 ┆ 0.482233  ┆ 0.0699994 ┆ neutral  │\n",
       "│           ┆ n_teamlea ┆ kedepan   ┆           ┆   ┆           ┆           ┆           ┆          │\n",
       "│           ┆ dership   ┆ pimpinan  ┆           ┆   ┆           ┆           ┆           ┆          │\n",
       "│           ┆           ┆ diseti…   ┆           ┆   ┆           ┆           ┆           ┆          │\n",
       "│ 25386172  ┆ rst|actio ┆ Smoga     ┆ false     ┆ … ┆ 0.6164467 ┆ 0.317413  ┆ 0.06614   ┆ positive │\n",
       "│           ┆ ns_system ┆ kedepan   ┆           ┆   ┆           ┆           ┆           ┆          │\n",
       "│           ┆ sprocesse ┆ untuk per ┆           ┆   ┆           ┆           ┆           ┆          │\n",
       "│           ┆ s         ┆ alatan,…  ┆           ┆   ┆           ┆           ┆           ┆          │\n",
       "│ 25386172  ┆ rst|actio ┆ Smoga     ┆ false     ┆ … ┆ 0.747983  ┆ 0.206887  ┆ 0.04513   ┆ positive │\n",
       "│           ┆ ns_skills ┆ kedepan   ┆           ┆   ┆           ┆           ┆           ┆          │\n",
       "│           ┆ staffing  ┆ agar      ┆           ┆   ┆           ┆           ┆           ┆          │\n",
       "│           ┆           ┆ lebih     ┆           ┆   ┆           ┆           ┆           ┆          │\n",
       "│           ┆           ┆ ditin…    ┆           ┆   ┆           ┆           ┆           ┆          │\n",
       "│ 25386172  ┆ ent|actio ┆ Smoga     ┆ false     ┆ … ┆ 0.7493369 ┆ 0.181825  ┆ 0.068838  ┆ positive │\n",
       "│           ┆ n_teamwor ┆ kedepan   ┆           ┆   ┆           ┆           ┆           ┆          │\n",
       "│           ┆ k         ┆ semakin   ┆           ┆   ┆           ┆           ┆           ┆          │\n",
       "│           ┆           ┆ solid da… ┆           ┆   ┆           ┆           ┆           ┆          │\n",
       "│ 25386172  ┆ ent|actio ┆ Pada      ┆ false     ┆ … ┆ 0.3848759 ┆ 0.5893544 ┆ 0.02577   ┆ neutral  │\n",
       "│           ┆ ns_accoun ┆ kondisi   ┆           ┆   ┆           ┆           ┆           ┆          │\n",
       "│           ┆ tability  ┆ apapun    ┆           ┆   ┆           ┆           ┆           ┆          │\n",
       "│           ┆           ┆ kita      ┆           ┆   ┆           ┆           ┆           ┆          │\n",
       "│           ┆           ┆ harus…    ┆           ┆   ┆           ┆           ┆           ┆          │\n",
       "│ …         ┆ …         ┆ …         ┆ …         ┆ … ┆ …         ┆ …         ┆ …         ┆ …        │\n",
       "│ 25385551  ┆ ent|actio ┆ tindakan  ┆ false     ┆ … ┆ 0.185693  ┆ 0.7884732 ┆ 0.025834  ┆ neutral  │\n",
       "│           ┆ n_teamlea ┆ untuk     ┆           ┆   ┆           ┆           ┆           ┆          │\n",
       "│           ┆ dership   ┆ semua     ┆           ┆   ┆           ┆           ┆           ┆          │\n",
       "│           ┆           ┆ pimpinan  ┆           ┆   ┆           ┆           ┆           ┆          │\n",
       "│           ┆           ┆ …         ┆           ┆   ┆           ┆           ┆           ┆          │\n",
       "│ 25385551  ┆ rst|actio ┆ belum ada ┆ false     ┆ … ┆ 0.002438  ┆ 0.9945281 ┆ 0.003034  ┆ neutral  │\n",
       "│           ┆ ns_system ┆           ┆           ┆   ┆           ┆           ┆           ┆          │\n",
       "│           ┆ sprocesse ┆           ┆           ┆   ┆           ┆           ┆           ┆          │\n",
       "│           ┆ s         ┆           ┆           ┆   ┆           ┆           ┆           ┆          │\n",
       "│ 25385551  ┆ rst|actio ┆ belum ada ┆ false     ┆ … ┆ 0.002438  ┆ 0.9945281 ┆ 0.003034  ┆ neutral  │\n",
       "│           ┆ ns_skills ┆           ┆           ┆   ┆           ┆           ┆           ┆          │\n",
       "│           ┆ staffing  ┆           ┆           ┆   ┆           ┆           ┆           ┆          │\n",
       "│ 25385551  ┆ ent|actio ┆ belum ada ┆ false     ┆ … ┆ 0.002438  ┆ 0.9945281 ┆ 0.003034  ┆ neutral  │\n",
       "│           ┆ n_teamwor ┆           ┆           ┆   ┆           ┆           ┆           ┆          │\n",
       "│           ┆ k         ┆           ┆           ┆   ┆           ┆           ┆           ┆          │\n",
       "│ 25385551  ┆ ent|actio ┆ belum ada ┆ false     ┆ … ┆ 0.002438  ┆ 0.9945281 ┆ 0.003034  ┆ neutral  │\n",
       "│           ┆ ns_accoun ┆           ┆           ┆   ┆           ┆           ┆           ┆          │\n",
       "│           ┆ tability  ┆           ┆           ┆   ┆           ┆           ┆           ┆          │\n",
       "└───────────┴───────────┴───────────┴───────────┴───┴───────────┴───────────┴───────────┴──────────┘"
      ]
     },
     "execution_count": 2,
     "metadata": {},
     "output_type": "execute_result"
    }
   ],
   "source": [
    "pl.read_excel(source=\"JUL 2024- text comments.xlsx.xlsx\", sheet_name=\"response_export_comments\")"
   ]
  },
  {
   "cell_type": "code",
   "execution_count": null,
   "id": "2706a07d",
   "metadata": {},
   "outputs": [],
   "source": []
  }
 ],
 "metadata": {
  "kernelspec": {
   "display_name": "translator",
   "language": "python",
   "name": "python3"
  },
  "language_info": {
   "codemirror_mode": {
    "name": "ipython",
    "version": 3
   },
   "file_extension": ".py",
   "mimetype": "text/x-python",
   "name": "python",
   "nbconvert_exporter": "python",
   "pygments_lexer": "ipython3",
   "version": "3.12.10"
  }
 },
 "nbformat": 4,
 "nbformat_minor": 5
}
